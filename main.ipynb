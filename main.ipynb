{
 "cells": [
  {
   "cell_type": "code",
   "execution_count": 1,
   "id": "b5a11ac7",
   "metadata": {},
   "outputs": [],
   "source": [
    "import pandas as pd\n",
    "import numpy as np\n",
    "import matplotlib.pyplot as plt\n",
    "\n",
    "from src.model.data import __version__\n",
    "\n",
    "from sklearn.model_selection import train_test_split\n",
    "from sklearn.linear_model import LogisticRegression\n",
    "from sklearn.metrics import accuracy_score, f1_score\n",
    "\n",
    "from src.base import logger\n",
    "from src.config import get_config\n",
    "from src.model.data import make_dataset\n",
    "from src.model.features import build_features\n",
    "from src.model.preprocessing import PreProcessor\n",
    "\n",
    "from sklearn.ensemble import RandomForestClassifier, GradientBoostingRegressor\n",
    "\n",
    "#from xgboost import XGBClassifier\n",
    "\n",
    "\n",
    "pd.options.display.max_columns = None\n",
    "\n",
    "%config IPCompleter.use_jedi=False"
   ]
  },
  {
   "cell_type": "code",
   "execution_count": 3,
   "id": "ba74b111",
   "metadata": {},
   "outputs": [
    {
     "data": {
      "text/plain": [
       "'eduardo_morais'"
      ]
     },
     "execution_count": 3,
     "metadata": {},
     "output_type": "execute_result"
    }
   ],
   "source": [
    "from src.base import commons\n",
    "\n",
    "commons.to_snake_case(\"   Eduardo  Morais \")\n",
    "# import re\n",
    "# string = \"Eduar  doMorais\"\n",
    "# string = string.replace(\" \", \"_\")\n",
    "# string = re.sub('(.)([A-Z][a-z]+)', r'\\1_\\2', string)\n",
    "# re.sub('([a-z0-9])([A-Z])', r'\\1_\\2', string).lower()"
   ]
  },
  {
   "cell_type": "code",
   "execution_count": 31,
   "id": "7e14ba09",
   "metadata": {},
   "outputs": [
    {
     "data": {
      "text/plain": [
       "0.68"
      ]
     },
     "execution_count": 31,
     "metadata": {},
     "output_type": "execute_result"
    }
   ],
   "source": [
    "data_config = get_config(filename=\"config/model.yaml\")\n",
    "\n",
    "features_config = get_config(filename=\"config/features.yaml\")\n",
    "\n",
    "X,y  = make_dataset(data_config, download_bases=False)\n",
    "\n",
    "X,y = build_features(X, y)\n",
    "\n",
    "X_train, X_test, y_train, y_test = train_test_split(X,y,stratify=y, test_size=0.25, random_state=42)\n",
    "\n",
    "preprocessor = PreProcessor(features_config)\n",
    "\n",
    "preprocessor.fit(X_train)\n",
    "\n",
    "X_train = preprocessor.transform(X_train)\n",
    "\n",
    "X_test = preprocessor.transform(X_test)\n",
    "\n",
    "classifier = LogisticRegression(C=5)\n",
    "\n",
    "classifier.fit(X_train, y_train)\n",
    "\n",
    "classifier.predict_proba(X_test)[:,1]\n",
    "\n",
    "accuracy_score(y_test,classifier.predict(X_test))"
   ]
  },
  {
   "cell_type": "code",
   "execution_count": 30,
   "id": "a051b1ab",
   "metadata": {},
   "outputs": [
    {
     "data": {
      "text/plain": [
       "92     5\n",
       "62     5\n",
       "166    5\n",
       "46     1\n",
       "25     5\n",
       "      ..\n",
       "89     5\n",
       "165    5\n",
       "180    5\n",
       "73     5\n",
       "22     5\n",
       "Name: Drug, Length: 150, dtype: int64"
      ]
     },
     "execution_count": 30,
     "metadata": {},
     "output_type": "execute_result"
    }
   ],
   "source": [
    "y_train"
   ]
  },
  {
   "cell_type": "code",
   "execution_count": 28,
   "id": "951c0783",
   "metadata": {},
   "outputs": [
    {
     "data": {
      "text/plain": [
       "array([0, 0, 0, 0, 0, 0, 0, 0, 0, 0, 0, 0, 0, 0, 0, 0, 0, 0, 0, 0, 0, 0,\n",
       "       0, 0, 0, 0, 0, 0, 0, 0, 0, 0, 0, 0, 0, 0, 0, 0, 0, 0, 0, 0, 0, 0,\n",
       "       0, 0, 0, 0, 0, 0])"
      ]
     },
     "execution_count": 28,
     "metadata": {},
     "output_type": "execute_result"
    }
   ],
   "source": [
    "THRESHOLD = 0.3\n",
    "(classifier.predict_proba(X_test)[:,1] > THRESHOLD).astype(int)"
   ]
  },
  {
   "cell_type": "code",
   "execution_count": null,
   "id": "81747591",
   "metadata": {},
   "outputs": [],
   "source": []
  }
 ],
 "metadata": {
  "interpreter": {
   "hash": "4467d2ca59434af31266d7bc4ae75aa1596073f04a2f2d542302d1040d863bfb"
  },
  "kernelspec": {
   "display_name": "Python 3.8.13 ('venv': venv)",
   "language": "python",
   "name": "python3"
  },
  "language_info": {
   "codemirror_mode": {
    "name": "ipython",
    "version": 3
   },
   "file_extension": ".py",
   "mimetype": "text/x-python",
   "name": "python",
   "nbconvert_exporter": "python",
   "pygments_lexer": "ipython3",
   "version": "3.8.13"
  }
 },
 "nbformat": 4,
 "nbformat_minor": 5
}
