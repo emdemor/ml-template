{
 "cells": [
  {
   "cell_type": "code",
   "execution_count": 1,
   "id": "b5a11ac7",
   "metadata": {},
   "outputs": [],
   "source": [
    "import pandas as pd\n",
    "import numpy as np\n",
    "import matplotlib.pyplot as plt\n",
    "\n",
    "from src.model.data import __version__\n",
    "\n",
    "from sklearn.model_selection import train_test_split\n",
    "from sklearn.linear_model import LogisticRegression\n",
    "from sklearn.metrics import accuracy_score, f1_score\n",
    "\n",
    "from src.base import logger\n",
    "from src.config import get_config, init_config_file\n",
    "from src.model.data import make_dataset\n",
    "from src.model.preprocessing import PreProcessor"
   ]
  },
  {
   "cell_type": "code",
   "execution_count": 2,
   "id": "7e14ba09",
   "metadata": {},
   "outputs": [
    {
     "data": {
      "text/plain": [
       "0.6532775795519787"
      ]
     },
     "execution_count": 2,
     "metadata": {},
     "output_type": "execute_result"
    }
   ],
   "source": [
    "data_config = get_config(filename=\"config/model.yaml\")\n",
    "\n",
    "features_config = get_config(filename=\"config/features.yaml\")\n",
    "\n",
    "X,y  = make_dataset(data_config, download_bases=False)\n",
    "\n",
    "X_train, X_test, y_train, y_test = train_test_split(X,y,stratify=y, test_size=0.25, random_state=42)\n",
    "\n",
    "preprocessor = PreProcessor(features_config).fit(X_train)\n",
    "\n",
    "X_train = preprocessor.transform(X_train)\n",
    "\n",
    "X_test = preprocessor.transform(X_test)\n",
    "\n",
    "classifier = LogisticRegression(solver=\"liblinear\")\n",
    "\n",
    "classifier.fit(X_train, y_train)\n",
    "\n",
    "f1_score(y_test,classifier.predict(X_test), average = 'weighted')"
   ]
  },
  {
   "cell_type": "code",
   "execution_count": 4,
   "id": "7a08044c",
   "metadata": {},
   "outputs": [],
   "source": []
  },
  {
   "cell_type": "code",
   "execution_count": 54,
   "id": "4b553197",
   "metadata": {},
   "outputs": [
    {
     "data": {
      "text/plain": [
       "0.7726854589657665"
      ]
     },
     "execution_count": 54,
     "metadata": {},
     "output_type": "execute_result"
    }
   ],
   "source": [
    "%run src/model/preprocessing.py\n",
    "\n",
    "heart = pd.read_csv(\"/home/risknow/Datasets/heart.csv\")\n",
    "\n",
    "#init_config_file(heart.drop(columns='output'), filename='config/output_file.yaml')\n",
    "\n",
    "features_config = get_config(filename='config/output_file.yaml')\n",
    "\n",
    "X = heart.drop(columns='output')\n",
    "y = heart['output']\n",
    "\n",
    "X_train, X_test, y_train, y_test = train_test_split(X,y,stratify=y, test_size=0.25, random_state=42)\n",
    "\n",
    "preprocessor = PreProcessor(features_config)\n",
    "\n",
    "preprocessor.fit(X_train)\n",
    "\n",
    "X_train = preprocessor.transform(X_train)\n",
    "\n",
    "X_test = preprocessor.transform(X_test)\n",
    "\n",
    "classifier = LogisticRegression(solver=\"liblinear\")\n",
    "\n",
    "classifier.fit(X_train, y_train)\n",
    "\n",
    "f1_score(y_test,classifier.predict(X_test), average = 'weighted')"
   ]
  },
  {
   "cell_type": "code",
   "execution_count": 53,
   "id": "293e06ea",
   "metadata": {},
   "outputs": [
    {
     "data": {
      "image/png": "[encoded data removed]",
      "text/plain": [
       "<Figure size 432x288 with 1 Axes>"
      ]
     },
     "metadata": {
      "needs_background": "light"
     },
     "output_type": "display_data"
    }
   ],
   "source": [
    "teste = preprocessor.transform(X)\n",
    "teste['trtbps'].hist(bins=30)\n",
    "plt.show()"
   ]
  },
  {
   "cell_type": "code",
   "execution_count": 37,
   "id": "082048ec",
   "metadata": {},
   "outputs": [],
   "source": [
    "import yaml\n",
    "from io import StringIO\n",
    "\n",
    "def init_config_file(dataframe, filename):\n",
    "    \n",
    "    data = [column_properties(dataframe[col]) for col in dataframe.columns]\n",
    "\n",
    "    string_stream = StringIO()\n",
    "\n",
    "    yaml.dump(data, string_stream, default_flow_style=False, sort_keys=False)\n",
    "\n",
    "    main_string = string_stream.getvalue()\n",
    "\n",
    "    string_stream.close()\n",
    "\n",
    "    main_string = (\n",
    "        main_string\n",
    "        .replace(\"\\n- name:\",\"\\n\\n- name:\")\n",
    "        .replace(\"'[left(]\",\"\")\n",
    "        .replace(\"[right]'\",\"\")\n",
    "    )\n",
    "\n",
    "\n",
    "    with open(filename, 'w') as outfile:\n",
    "        outfile.write(main_string)\n"
   ]
  },
  {
   "cell_type": "code",
   "execution_count": null,
   "id": "0465d361",
   "metadata": {},
   "outputs": [],
   "source": []
  },
  {
   "cell_type": "code",
   "execution_count": 29,
   "id": "d8fd3369",
   "metadata": {},
   "outputs": [
    {
     "data": {
      "text/plain": [
       "'- name: age\\n  dtype: int\\n  limits: [29, 77]\\n  transformation: identity\\n  imputation_strategy: mean\\n  imputation_param: null\\n  scaler: min_max\\n  weight: 1\\n\\n- name: sex\\n  dtype: int\\n  limits: [0, 1]\\n  transformation: identity\\n  imputation_strategy: mean\\n  imputation_param: null\\n  scaler: min_max\\n  weight: 1\\n\\n- name: cp\\n  dtype: int\\n  limits: [0, 3]\\n  transformation: identity\\n  imputation_strategy: mean\\n  imputation_param: null\\n  scaler: min_max\\n  weight: 1\\n\\n- name: trtbps\\n  dtype: int\\n  limits: [94, 200]\\n  transformation: identity\\n  imputation_strategy: mean\\n  imputation_param: null\\n  scaler: min_max\\n  weight: 1\\n\\n- name: chol\\n  dtype: int\\n  limits: [126, 564]\\n  transformation: identity\\n  imputation_strategy: mean\\n  imputation_param: null\\n  scaler: min_max\\n  weight: 1\\n\\n- name: fbs\\n  dtype: int\\n  limits: [0, 1]\\n  transformation: identity\\n  imputation_strategy: mean\\n  imputation_param: null\\n  scaler: min_max\\n  weight: 1\\n\\n- name: restecg\\n  dtype: int\\n  limits: [0, 2]\\n  transformation: identity\\n  imputation_strategy: mean\\n  imputation_param: null\\n  scaler: min_max\\n  weight: 1\\n\\n- name: thalachh\\n  dtype: int\\n  limits: [71, 202]\\n  transformation: identity\\n  imputation_strategy: mean\\n  imputation_param: null\\n  scaler: min_max\\n  weight: 1\\n\\n- name: exng\\n  dtype: int\\n  limits: [0, 1]\\n  transformation: identity\\n  imputation_strategy: mean\\n  imputation_param: null\\n  scaler: min_max\\n  weight: 1\\n\\n- name: oldpeak\\n  dtype: float64\\n  limits: [0.0, 6.2]\\n  transformation: identity\\n  imputation_strategy: mean\\n  imputation_param: null\\n  scaler: min_max\\n  weight: 1\\n\\n- name: slp\\n  dtype: int\\n  limits: [0, 2]\\n  transformation: identity\\n  imputation_strategy: mean\\n  imputation_param: null\\n  scaler: min_max\\n  weight: 1\\n\\n- name: caa\\n  dtype: int\\n  limits: [0, 4]\\n  transformation: identity\\n  imputation_strategy: mean\\n  imputation_param: null\\n  scaler: min_max\\n  weight: 1\\n\\n- name: thall\\n  dtype: int\\n  limits: [0, 3]\\n  transformation: identity\\n  imputation_strategy: mean\\n  imputation_param: null\\n  scaler: min_max\\n  weight: 1\\n\\n- name: output\\n  dtype: int\\n  limits: [0, 1]\\n  transformation: identity\\n  imputation_strategy: mean\\n  imputation_param: null\\n  scaler: min_max\\n  weight: 1\\n'"
      ]
     },
     "execution_count": 29,
     "metadata": {},
     "output_type": "execute_result"
    }
   ],
   "source": [
    "from src.base.file import read_file_string\n",
    "main_string = read_file_string('config/output_file.yaml', splitlines=False)\n",
    "\n",
    "main_string = (\n",
    "    main_string\n",
    "    .replace(\"\\n- name:\",\"\\n\\n- name:\")\n",
    "    .replace(\"'[left(]\",\"\")\n",
    "    .replace(\"[right]'\",\"\")\n",
    ")\n",
    "\n",
    "main_string"
   ]
  },
  {
   "cell_type": "code",
   "execution_count": 26,
   "id": "12a87bdd",
   "metadata": {},
   "outputs": [
    {
     "data": {
      "text/plain": [
       "\"- name: age\\n  dtype: int\\n  limits: '[left(][29, 77][right]'\\n  transformation: identity\\n  imputation_strategy: mean\\n  imputation_param: null\\n  scaler: min_max\\n  weight: 1\\n- name: sex\\n  dtype: int\\n  limits: '[left(][0, 1][right]'\\n  transformation: identity\\n  imputation_strategy: mean\\n  imputation_param: null\\n  scaler: min_max\\n  weight: 1\\n- name: cp\\n  dtype: int\\n  limits: '[left(][0, 3][right]'\\n  transformation: identity\\n  imputation_strategy: mean\\n  imputation_param: null\\n  scaler: min_max\\n  weight: 1\\n- name: trtbps\\n  dtype: int\\n  limits: '[left(][94, 200][right]'\\n  transformation: identity\\n  imputation_strategy: mean\\n  imputation_param: null\\n  scaler: min_max\\n  weight: 1\\n- name: chol\\n  dtype: int\\n  limits: '[left(][126, 564][right]'\\n  transformation: identity\\n  imputation_strategy: mean\\n  imputation_param: null\\n  scaler: min_max\\n  weight: 1\\n- name: fbs\\n  dtype: int\\n  limits: '[left(][0, 1][right]'\\n  transformation: identity\\n  imputation_strategy: mean\\n  imputation_param: null\\n  scaler: min_max\\n  weight: 1\\n- name: restecg\\n  dtype: int\\n  limits: '[left(][0, 2][right]'\\n  transformation: identity\\n  imputation_strategy: mean\\n  imputation_param: null\\n  scaler: min_max\\n  weight: 1\\n- name: thalachh\\n  dtype: int\\n  limits: '[left(][71, 202][right]'\\n  transformation: identity\\n  imputation_strategy: mean\\n  imputation_param: null\\n  scaler: min_max\\n  weight: 1\\n- name: exng\\n  dtype: int\\n  limits: '[left(][0, 1][right]'\\n  transformation: identity\\n  imputation_strategy: mean\\n  imputation_param: null\\n  scaler: min_max\\n  weight: 1\\n- name: oldpeak\\n  dtype: float64\\n  limits: '[left(][0.0, 6.2][right]'\\n  transformation: identity\\n  imputation_strategy: mean\\n  imputation_param: null\\n  scaler: min_max\\n  weight: 1\\n- name: slp\\n  dtype: int\\n  limits: '[left(][0, 2][right]'\\n  transformation: identity\\n  imputation_strategy: mean\\n  imputation_param: null\\n  scaler: min_max\\n  weight: 1\\n- name: caa\\n  dtype: int\\n  limits: '[left(][0, 4][right]'\\n  transformation: identity\\n  imputation_strategy: mean\\n  imputation_param: null\\n  scaler: min_max\\n  weight: 1\\n- name: thall\\n  dtype: int\\n  limits: '[left(][0, 3][right]'\\n  transformation: identity\\n  imputation_strategy: mean\\n  imputation_param: null\\n  scaler: min_max\\n  weight: 1\\n- name: output\\n  dtype: int\\n  limits: '[left(][0, 1][right]'\\n  transformation: identity\\n  imputation_strategy: mean\\n  imputation_param: null\\n  scaler: min_max\\n  weight: 1\\n\""
      ]
     },
     "execution_count": 26,
     "metadata": {},
     "output_type": "execute_result"
    }
   ],
   "source": []
  },
  {
   "cell_type": "code",
   "execution_count": null,
   "id": "95839bc6",
   "metadata": {},
   "outputs": [],
   "source": []
  },
  {
   "cell_type": "code",
   "execution_count": null,
   "id": "3a6168af",
   "metadata": {},
   "outputs": [],
   "source": []
  }
 ],
 "metadata": {
  "kernelspec": {
   "display_name": "Python 3",
   "language": "python",
   "name": "python3"
  },
  "language_info": {
   "codemirror_mode": {
    "name": "ipython",
    "version": 3
   },
   "file_extension": ".py",
   "mimetype": "text/x-python",
   "name": "python",
   "nbconvert_exporter": "python",
   "pygments_lexer": "ipython3",
   "version": "3.6.9"
  }
 },
 "nbformat": 4,
 "nbformat_minor": 5
}
