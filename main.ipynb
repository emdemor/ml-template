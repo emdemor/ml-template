{
 "cells": [
  {
   "cell_type": "code",
   "execution_count": 36,
   "id": "b5a11ac7",
   "metadata": {},
   "outputs": [],
   "source": [
    "import pandas as pd\n",
    "import numpy as np\n",
    "import matplotlib.pyplot as plt\n",
    "\n",
    "from src.model.data import __version__\n",
    "\n",
    "from sklearn.model_selection import train_test_split\n",
    "from sklearn.linear_model import LogisticRegression\n",
    "from sklearn.metrics import accuracy_score, f1_score\n",
    "\n",
    "from src.base import logger\n",
    "from src.config import get_config\n",
    "from src.model.data import make_dataset\n",
    "from src.model.preprocessing import PreProcessor"
   ]
  },
  {
   "cell_type": "code",
   "execution_count": 57,
   "id": "7e14ba09",
   "metadata": {},
   "outputs": [
    {
     "data": {
      "text/plain": [
       "0.6616297544117099"
      ]
     },
     "execution_count": 57,
     "metadata": {},
     "output_type": "execute_result"
    }
   ],
   "source": [
    "data_config = get_config(filename=\"config/model.yaml\")\n",
    "\n",
    "features_config = get_config(filename=\"config/features.yaml\")\n",
    "\n",
    "X,y  = make_dataset(data_config, download_bases=False)\n",
    "\n",
    "X_train, X_test, y_train, y_test = train_test_split(X,y,stratify=y, test_size=0.25, random_state=42)\n",
    "\n",
    "preprocessor = PreProcessor(features_config).fit(X_train)\n",
    "\n",
    "X_train = preprocessor.transform(X_train)\n",
    "\n",
    "X_test = preprocessor.transform(X_test)\n",
    "\n",
    "classifier = LogisticRegression(solver=\"liblinear\")\n",
    "\n",
    "classifier.fit(X_train, y_train)\n",
    "\n",
    "f1_score(y_test,classifier.predict(X_test), average = 'weighted')"
   ]
  },
  {
   "cell_type": "code",
   "execution_count": 59,
   "id": "15ecd695",
   "metadata": {},
   "outputs": [
    {
     "data": {
      "image/png": "[encoded data removed]",
      "text/plain": [
       "<Figure size 432x288 with 1 Axes>"
      ]
     },
     "metadata": {
      "needs_background": "light"
     },
     "output_type": "display_data"
    }
   ],
   "source": [
    "(X_train['x_maximum']).hist()\n",
    "plt.show()"
   ]
  },
  {
   "cell_type": "code",
   "execution_count": 9,
   "id": "c239f330",
   "metadata": {},
   "outputs": [],
   "source": [
    "'liblinear' library, 'newton-cg', 'sag', 'saga' and 'lbfgs' "
   ]
  },
  {
   "cell_type": "code",
   "execution_count": 10,
   "id": "e6228fe3",
   "metadata": {},
   "outputs": [],
   "source": []
  },
  {
   "cell_type": "code",
   "execution_count": null,
   "id": "12a87bdd",
   "metadata": {},
   "outputs": [],
   "source": []
  },
  {
   "cell_type": "code",
   "execution_count": null,
   "id": "95839bc6",
   "metadata": {},
   "outputs": [],
   "source": []
  },
  {
   "cell_type": "code",
   "execution_count": null,
   "id": "3a6168af",
   "metadata": {},
   "outputs": [],
   "source": []
  }
 ],
 "metadata": {
  "kernelspec": {
   "display_name": "Python 3",
   "language": "python",
   "name": "python3"
  },
  "language_info": {
   "codemirror_mode": {
    "name": "ipython",
    "version": 3
   },
   "file_extension": ".py",
   "mimetype": "text/x-python",
   "name": "python",
   "nbconvert_exporter": "python",
   "pygments_lexer": "ipython3",
   "version": "3.6.9"
  }
 },
 "nbformat": 4,
 "nbformat_minor": 5
}
