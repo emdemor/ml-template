{
 "cells": [
  {
   "cell_type": "code",
   "execution_count": 1,
   "id": "e1c722d3",
   "metadata": {},
   "outputs": [],
   "source": [
    "import pandas as pd\n",
    "import numpy as np\n",
    "from src.model.data import __version__\n",
    "\n",
    "from src.config import get_config\n",
    "from src.model.data import make_dataset\n",
    "from src.model.preprocessing import PreProcessor"
   ]
  },
  {
   "cell_type": "code",
   "execution_count": 3,
   "id": "c559b18d",
   "metadata": {},
   "outputs": [],
   "source": [
    "data_config = get_config(filename=\"config/model.yaml\")\n",
    "features_config = get_config(filename=\"config/features.yaml\")\n",
    "\n",
    "data = make_dataset(data_config, download_bases=False)\n",
    "data_transf = PreProcessor(features_config).fit_transform(data)"
   ]
  },
  {
   "cell_type": "code",
   "execution_count": 1,
   "id": "0461a8e7",
   "metadata": {},
   "outputs": [],
   "source": [
    "\n",
    "\n",
    "from src.base.commons import to_snake_case\n",
    "from src.base.file import download_file, read_file_string\n",
    "from src.model.data import __version__, make_dataset\n",
    "from src.model.preprocessing import PreProcessor\n",
    "from src.config import get_config"
   ]
  },
  {
   "cell_type": "code",
   "execution_count": 9,
   "id": "19608960",
   "metadata": {},
   "outputs": [],
   "source": []
  },
  {
   "cell_type": "code",
   "execution_count": 10,
   "id": "dc566c17",
   "metadata": {},
   "outputs": [],
   "source": []
  },
  {
   "cell_type": "code",
   "execution_count": null,
   "id": "fa45c7c4",
   "metadata": {},
   "outputs": [],
   "source": []
  },
  {
   "cell_type": "code",
   "execution_count": null,
   "id": "942ede12",
   "metadata": {},
   "outputs": [],
   "source": []
  },
  {
   "cell_type": "code",
   "execution_count": null,
   "id": "939994f3",
   "metadata": {},
   "outputs": [],
   "source": []
  }
 ],
 "metadata": {
  "kernelspec": {
   "display_name": "Python 3",
   "language": "python",
   "name": "python3"
  },
  "language_info": {
   "codemirror_mode": {
    "name": "ipython",
    "version": 3
   },
   "file_extension": ".py",
   "mimetype": "text/x-python",
   "name": "python",
   "nbconvert_exporter": "python",
   "pygments_lexer": "ipython3",
   "version": "3.6.9"
  }
 },
 "nbformat": 4,
 "nbformat_minor": 5
}
